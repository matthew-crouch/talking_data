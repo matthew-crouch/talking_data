{
 "cells": [
  {
   "cell_type": "code",
   "execution_count": 1,
   "metadata": {},
   "outputs": [],
   "source": [
    "import pandas as pd\n",
    "import numpy as np\n",
    "from tqdm.notebook import tqdm\n",
    "import seaborn as sns\n",
    "import matplotlib.pyplot as plt\n",
    "import imblearn\n",
    "from imblearn.under_sampling import RandomUnderSampler\n",
    "from imblearn.under_sampling import NearMiss\n",
    "from scipy import stats\n",
    "from tensorflow.keras.models import Sequential\n",
    "from tensorflow.keras.layers import Dense,Flatten, Dropout\n",
    "from tensorflow.keras import models, layers\n",
    "from tensorflow.keras import regularizers\n",
    "from tensorflow import keras\n",
    "from tensorflow.keras import layers, Input, Model\n",
    "from tensorflow.keras.callbacks import EarlyStopping\n",
    "from sklearn.model_selection import train_test_split\n",
    "import sklearn.preprocessing \n",
    "from sklearn.model_selection import cross_val_score\n",
    "from sklearn.metrics import precision_recall_fscore_support\n",
    "from sklearn.ensemble import RandomForestClassifier\n",
    "from tensorflow.keras.metrics import Precision, Recall, FalseNegatives, FalsePositives, AUC\n",
    "from sklearn.model_selection import GridSearchCV\n",
    "from sklearn.model_selection import RandomizedSearchCV"
   ]
  },
  {
   "cell_type": "markdown",
   "metadata": {},
   "source": [
    "We expect you to\n",
    "\n",
    "deliver a reasonable solution in about 2 hours, 3 hours max\n",
    "return the results in 3-5 days \n",
    "build an end-to-end pipeline for the task\n",
    "showcase skills of various aspects of ML: ETL, feature engineering, model building and tuning, evaluation, etc.\n",
    "develop in Python3 (could be in Jupiter notebooks) with comments\n",
    "optionally, use version control with appropriate commit messages\n",
    "Note: You should not try to deliver the “best” solution. Instead, they should try to get a minimum-viable-product (MVP) which is just enough as the first response to the challenge (feel free to comment on how to improve). "
   ]
  },
  {
   "cell_type": "markdown",
   "metadata": {},
   "source": [
    "# Introduction\n",
    "\n",
    "File descriptions\n",
    "\n",
    "- train.csv - the training set\n",
    "- train_sample.csv - 100,000 randomly-selected rows of training data, to inspect data before downloading full set\n",
    "- test.csv - the test set\n",
    "- sampleSubmission.csv - a sample submission file in the correct format\n",
    "\n",
    "UPDATE: test_supplement.csv - This is a larger test set that was unintentionally released at the start of the competition. It is not necessary to use this data, but it is permitted to do so. The official test data is a subset of this data.\n",
    "Data fields\n",
    "\n",
    "Each row of the training data contains a click record, with the following features.\n",
    "\n",
    "- ip: ip address of click.\n",
    "- app: app id for marketing.\n",
    "- device: device type id of user mobile phone (e.g., iphone 6 plus, iphone 7, huawei mate 7, etc.)\n",
    "- os: os version id of user mobile phone\n",
    "- channel: channel id of mobile ad publisher\n",
    "- click_time: timestamp of click (UTC)\n",
    "- attributed_time: if user download the app for after clicking an ad, this is the time of the app download\n",
    "- is_attributed: the target that is to be predicted, indicating the app was downloaded\n",
    "\n",
    "Note that ip, app, device, os, and channel are encoded.\n",
    "\n",
    "The test data is similar, with the following differences:\n",
    "\n",
    "click_id: reference for making predictions\n",
    "is_attributed: not included"
   ]
  },
  {
   "cell_type": "markdown",
   "metadata": {},
   "source": [
    "# Import Data"
   ]
  },
  {
   "cell_type": "code",
   "execution_count": 2,
   "metadata": {},
   "outputs": [
    {
     "data": {
      "text/html": [
       "<div>\n",
       "<style scoped>\n",
       "    .dataframe tbody tr th:only-of-type {\n",
       "        vertical-align: middle;\n",
       "    }\n",
       "\n",
       "    .dataframe tbody tr th {\n",
       "        vertical-align: top;\n",
       "    }\n",
       "\n",
       "    .dataframe thead th {\n",
       "        text-align: right;\n",
       "    }\n",
       "</style>\n",
       "<table border=\"1\" class=\"dataframe\">\n",
       "  <thead>\n",
       "    <tr style=\"text-align: right;\">\n",
       "      <th></th>\n",
       "      <th>ip</th>\n",
       "      <th>app</th>\n",
       "      <th>device</th>\n",
       "      <th>os</th>\n",
       "      <th>channel</th>\n",
       "      <th>click_time</th>\n",
       "      <th>attributed_time</th>\n",
       "      <th>is_attributed</th>\n",
       "    </tr>\n",
       "  </thead>\n",
       "  <tbody>\n",
       "    <tr>\n",
       "      <th>0</th>\n",
       "      <td>83230</td>\n",
       "      <td>3</td>\n",
       "      <td>1</td>\n",
       "      <td>13</td>\n",
       "      <td>379</td>\n",
       "      <td>2017-11-06 14:32:21</td>\n",
       "      <td>NaN</td>\n",
       "      <td>0</td>\n",
       "    </tr>\n",
       "    <tr>\n",
       "      <th>1</th>\n",
       "      <td>17357</td>\n",
       "      <td>3</td>\n",
       "      <td>1</td>\n",
       "      <td>19</td>\n",
       "      <td>379</td>\n",
       "      <td>2017-11-06 14:33:34</td>\n",
       "      <td>NaN</td>\n",
       "      <td>0</td>\n",
       "    </tr>\n",
       "    <tr>\n",
       "      <th>2</th>\n",
       "      <td>35810</td>\n",
       "      <td>3</td>\n",
       "      <td>1</td>\n",
       "      <td>13</td>\n",
       "      <td>379</td>\n",
       "      <td>2017-11-06 14:34:12</td>\n",
       "      <td>NaN</td>\n",
       "      <td>0</td>\n",
       "    </tr>\n",
       "    <tr>\n",
       "      <th>3</th>\n",
       "      <td>45745</td>\n",
       "      <td>14</td>\n",
       "      <td>1</td>\n",
       "      <td>13</td>\n",
       "      <td>478</td>\n",
       "      <td>2017-11-06 14:34:52</td>\n",
       "      <td>NaN</td>\n",
       "      <td>0</td>\n",
       "    </tr>\n",
       "    <tr>\n",
       "      <th>4</th>\n",
       "      <td>161007</td>\n",
       "      <td>3</td>\n",
       "      <td>1</td>\n",
       "      <td>13</td>\n",
       "      <td>379</td>\n",
       "      <td>2017-11-06 14:35:08</td>\n",
       "      <td>NaN</td>\n",
       "      <td>0</td>\n",
       "    </tr>\n",
       "    <tr>\n",
       "      <th>...</th>\n",
       "      <td>...</td>\n",
       "      <td>...</td>\n",
       "      <td>...</td>\n",
       "      <td>...</td>\n",
       "      <td>...</td>\n",
       "      <td>...</td>\n",
       "      <td>...</td>\n",
       "      <td>...</td>\n",
       "    </tr>\n",
       "    <tr>\n",
       "      <th>4999995</th>\n",
       "      <td>55695</td>\n",
       "      <td>8</td>\n",
       "      <td>1</td>\n",
       "      <td>16</td>\n",
       "      <td>145</td>\n",
       "      <td>2017-11-06 20:27:57</td>\n",
       "      <td>NaN</td>\n",
       "      <td>0</td>\n",
       "    </tr>\n",
       "    <tr>\n",
       "      <th>4999996</th>\n",
       "      <td>37363</td>\n",
       "      <td>15</td>\n",
       "      <td>1</td>\n",
       "      <td>25</td>\n",
       "      <td>245</td>\n",
       "      <td>2017-11-06 20:27:57</td>\n",
       "      <td>NaN</td>\n",
       "      <td>0</td>\n",
       "    </tr>\n",
       "    <tr>\n",
       "      <th>4999997</th>\n",
       "      <td>138561</td>\n",
       "      <td>94</td>\n",
       "      <td>1</td>\n",
       "      <td>13</td>\n",
       "      <td>361</td>\n",
       "      <td>2017-11-06 20:27:57</td>\n",
       "      <td>NaN</td>\n",
       "      <td>0</td>\n",
       "    </tr>\n",
       "    <tr>\n",
       "      <th>4999998</th>\n",
       "      <td>97361</td>\n",
       "      <td>12</td>\n",
       "      <td>1</td>\n",
       "      <td>35</td>\n",
       "      <td>19</td>\n",
       "      <td>2017-11-06 20:27:57</td>\n",
       "      <td>NaN</td>\n",
       "      <td>0</td>\n",
       "    </tr>\n",
       "    <tr>\n",
       "      <th>4999999</th>\n",
       "      <td>37363</td>\n",
       "      <td>12</td>\n",
       "      <td>1</td>\n",
       "      <td>25</td>\n",
       "      <td>245</td>\n",
       "      <td>2017-11-06 20:27:57</td>\n",
       "      <td>NaN</td>\n",
       "      <td>0</td>\n",
       "    </tr>\n",
       "  </tbody>\n",
       "</table>\n",
       "<p>5000000 rows × 8 columns</p>\n",
       "</div>"
      ],
      "text/plain": [
       "             ip  app  device  os  channel           click_time  \\\n",
       "0         83230    3       1  13      379  2017-11-06 14:32:21   \n",
       "1         17357    3       1  19      379  2017-11-06 14:33:34   \n",
       "2         35810    3       1  13      379  2017-11-06 14:34:12   \n",
       "3         45745   14       1  13      478  2017-11-06 14:34:52   \n",
       "4        161007    3       1  13      379  2017-11-06 14:35:08   \n",
       "...         ...  ...     ...  ..      ...                  ...   \n",
       "4999995   55695    8       1  16      145  2017-11-06 20:27:57   \n",
       "4999996   37363   15       1  25      245  2017-11-06 20:27:57   \n",
       "4999997  138561   94       1  13      361  2017-11-06 20:27:57   \n",
       "4999998   97361   12       1  35       19  2017-11-06 20:27:57   \n",
       "4999999   37363   12       1  25      245  2017-11-06 20:27:57   \n",
       "\n",
       "        attributed_time  is_attributed  \n",
       "0                   NaN              0  \n",
       "1                   NaN              0  \n",
       "2                   NaN              0  \n",
       "3                   NaN              0  \n",
       "4                   NaN              0  \n",
       "...                 ...            ...  \n",
       "4999995             NaN              0  \n",
       "4999996             NaN              0  \n",
       "4999997             NaN              0  \n",
       "4999998             NaN              0  \n",
       "4999999             NaN              0  \n",
       "\n",
       "[5000000 rows x 8 columns]"
      ]
     },
     "execution_count": 2,
     "metadata": {},
     "output_type": "execute_result"
    }
   ],
   "source": [
    "dataset = pd.read_csv(\"./data/talkingdata-adtracking-fraud-detection/train.csv\", nrows=5000000)\n",
    "dataset"
   ]
  },
  {
   "cell_type": "markdown",
   "metadata": {},
   "source": [
    "# Exploratory Data Analysis\n",
    "From inspection of the data we can see that there has already been some encoding of the features, specifically, ip, add, device, os, and channel."
   ]
  },
  {
   "cell_type": "markdown",
   "metadata": {},
   "source": [
    "From the plot below we can see that the dataset is heavily imbalanced. In order to provide accurate predictions, we will need to rebalance this dataset some how, either through oversampling, or undersampling"
   ]
  },
  {
   "cell_type": "code",
   "execution_count": 3,
   "metadata": {},
   "outputs": [
    {
     "data": {
      "text/plain": [
       "ip                       0\n",
       "app                      0\n",
       "device                   0\n",
       "os                       0\n",
       "channel                  0\n",
       "click_time               0\n",
       "attributed_time    4991046\n",
       "is_attributed            0\n",
       "dtype: int64"
      ]
     },
     "execution_count": 3,
     "metadata": {},
     "output_type": "execute_result"
    }
   ],
   "source": [
    "dataset.isna().sum()"
   ]
  },
  {
   "cell_type": "code",
   "execution_count": 4,
   "metadata": {},
   "outputs": [],
   "source": [
    "dataset = dataset.fillna(0)"
   ]
  },
  {
   "cell_type": "code",
   "execution_count": 5,
   "metadata": {},
   "outputs": [
    {
     "data": {
      "image/png": "[encoded data removed]",
      "text/plain": [
       "<Figure size 432x288 with 1 Axes>"
      ]
     },
     "metadata": {
      "needs_background": "light"
     },
     "output_type": "display_data"
    }
   ],
   "source": [
    "f = sns.countplot(data=dataset, x=\"is_attributed\")"
   ]
  },
  {
   "cell_type": "code",
   "execution_count": 6,
   "metadata": {},
   "outputs": [
    {
     "name": "stdout",
     "output_type": "stream",
     "text": [
      "is_attributed true: 0.17908 %\n",
      "is_attributed false: 99.82092 %\n"
     ]
    }
   ],
   "source": [
    "len_is_true = len(dataset[dataset.is_attributed==True])\n",
    "len_is_false = len(dataset[dataset.is_attributed==False])\n",
    "\n",
    "print(f\"is_attributed true: {len(dataset[dataset.is_attributed==True])/(len(dataset))*100} %\")\n",
    "print(f\"is_attributed false: {len(dataset[dataset.is_attributed==False])/(len(dataset))*100} %\")"
   ]
  },
  {
   "cell_type": "markdown",
   "metadata": {},
   "source": [
    "As can be seen from the distribution of is_attributed above. There is a very small number of positive values. This is a very imbalanced problem. An approach like SMOTE, may not be useful here as it synthetically generates data from the minority class. If like this example we have a very limited number of positive samples we may just end up fitting model to the noise"
   ]
  },
  {
   "cell_type": "markdown",
   "metadata": {},
   "source": [
    "Introducing hours, month, day into the feature dataset may help us identify some periodicity in the data."
   ]
  },
  {
   "cell_type": "code",
   "execution_count": 7,
   "metadata": {},
   "outputs": [
    {
     "data": {
      "text/html": [
       "<div>\n",
       "<style scoped>\n",
       "    .dataframe tbody tr th:only-of-type {\n",
       "        vertical-align: middle;\n",
       "    }\n",
       "\n",
       "    .dataframe tbody tr th {\n",
       "        vertical-align: top;\n",
       "    }\n",
       "\n",
       "    .dataframe thead th {\n",
       "        text-align: right;\n",
       "    }\n",
       "</style>\n",
       "<table border=\"1\" class=\"dataframe\">\n",
       "  <thead>\n",
       "    <tr style=\"text-align: right;\">\n",
       "      <th></th>\n",
       "      <th>ip</th>\n",
       "      <th>app</th>\n",
       "      <th>device</th>\n",
       "      <th>os</th>\n",
       "      <th>channel</th>\n",
       "      <th>click_time</th>\n",
       "      <th>attributed_time</th>\n",
       "      <th>is_attributed</th>\n",
       "      <th>click_days</th>\n",
       "      <th>click_hour</th>\n",
       "      <th>click_minute</th>\n",
       "    </tr>\n",
       "  </thead>\n",
       "  <tbody>\n",
       "    <tr>\n",
       "      <th>0</th>\n",
       "      <td>83230</td>\n",
       "      <td>3</td>\n",
       "      <td>1</td>\n",
       "      <td>13</td>\n",
       "      <td>379</td>\n",
       "      <td>2017-11-06 14:32:21</td>\n",
       "      <td>0</td>\n",
       "      <td>0</td>\n",
       "      <td>6</td>\n",
       "      <td>14</td>\n",
       "      <td>32</td>\n",
       "    </tr>\n",
       "    <tr>\n",
       "      <th>1</th>\n",
       "      <td>17357</td>\n",
       "      <td>3</td>\n",
       "      <td>1</td>\n",
       "      <td>19</td>\n",
       "      <td>379</td>\n",
       "      <td>2017-11-06 14:33:34</td>\n",
       "      <td>0</td>\n",
       "      <td>0</td>\n",
       "      <td>6</td>\n",
       "      <td>14</td>\n",
       "      <td>33</td>\n",
       "    </tr>\n",
       "    <tr>\n",
       "      <th>2</th>\n",
       "      <td>35810</td>\n",
       "      <td>3</td>\n",
       "      <td>1</td>\n",
       "      <td>13</td>\n",
       "      <td>379</td>\n",
       "      <td>2017-11-06 14:34:12</td>\n",
       "      <td>0</td>\n",
       "      <td>0</td>\n",
       "      <td>6</td>\n",
       "      <td>14</td>\n",
       "      <td>34</td>\n",
       "    </tr>\n",
       "    <tr>\n",
       "      <th>3</th>\n",
       "      <td>45745</td>\n",
       "      <td>14</td>\n",
       "      <td>1</td>\n",
       "      <td>13</td>\n",
       "      <td>478</td>\n",
       "      <td>2017-11-06 14:34:52</td>\n",
       "      <td>0</td>\n",
       "      <td>0</td>\n",
       "      <td>6</td>\n",
       "      <td>14</td>\n",
       "      <td>34</td>\n",
       "    </tr>\n",
       "    <tr>\n",
       "      <th>4</th>\n",
       "      <td>161007</td>\n",
       "      <td>3</td>\n",
       "      <td>1</td>\n",
       "      <td>13</td>\n",
       "      <td>379</td>\n",
       "      <td>2017-11-06 14:35:08</td>\n",
       "      <td>0</td>\n",
       "      <td>0</td>\n",
       "      <td>6</td>\n",
       "      <td>14</td>\n",
       "      <td>35</td>\n",
       "    </tr>\n",
       "    <tr>\n",
       "      <th>...</th>\n",
       "      <td>...</td>\n",
       "      <td>...</td>\n",
       "      <td>...</td>\n",
       "      <td>...</td>\n",
       "      <td>...</td>\n",
       "      <td>...</td>\n",
       "      <td>...</td>\n",
       "      <td>...</td>\n",
       "      <td>...</td>\n",
       "      <td>...</td>\n",
       "      <td>...</td>\n",
       "    </tr>\n",
       "    <tr>\n",
       "      <th>4999995</th>\n",
       "      <td>55695</td>\n",
       "      <td>8</td>\n",
       "      <td>1</td>\n",
       "      <td>16</td>\n",
       "      <td>145</td>\n",
       "      <td>2017-11-06 20:27:57</td>\n",
       "      <td>0</td>\n",
       "      <td>0</td>\n",
       "      <td>6</td>\n",
       "      <td>20</td>\n",
       "      <td>27</td>\n",
       "    </tr>\n",
       "    <tr>\n",
       "      <th>4999996</th>\n",
       "      <td>37363</td>\n",
       "      <td>15</td>\n",
       "      <td>1</td>\n",
       "      <td>25</td>\n",
       "      <td>245</td>\n",
       "      <td>2017-11-06 20:27:57</td>\n",
       "      <td>0</td>\n",
       "      <td>0</td>\n",
       "      <td>6</td>\n",
       "      <td>20</td>\n",
       "      <td>27</td>\n",
       "    </tr>\n",
       "    <tr>\n",
       "      <th>4999997</th>\n",
       "      <td>138561</td>\n",
       "      <td>94</td>\n",
       "      <td>1</td>\n",
       "      <td>13</td>\n",
       "      <td>361</td>\n",
       "      <td>2017-11-06 20:27:57</td>\n",
       "      <td>0</td>\n",
       "      <td>0</td>\n",
       "      <td>6</td>\n",
       "      <td>20</td>\n",
       "      <td>27</td>\n",
       "    </tr>\n",
       "    <tr>\n",
       "      <th>4999998</th>\n",
       "      <td>97361</td>\n",
       "      <td>12</td>\n",
       "      <td>1</td>\n",
       "      <td>35</td>\n",
       "      <td>19</td>\n",
       "      <td>2017-11-06 20:27:57</td>\n",
       "      <td>0</td>\n",
       "      <td>0</td>\n",
       "      <td>6</td>\n",
       "      <td>20</td>\n",
       "      <td>27</td>\n",
       "    </tr>\n",
       "    <tr>\n",
       "      <th>4999999</th>\n",
       "      <td>37363</td>\n",
       "      <td>12</td>\n",
       "      <td>1</td>\n",
       "      <td>25</td>\n",
       "      <td>245</td>\n",
       "      <td>2017-11-06 20:27:57</td>\n",
       "      <td>0</td>\n",
       "      <td>0</td>\n",
       "      <td>6</td>\n",
       "      <td>20</td>\n",
       "      <td>27</td>\n",
       "    </tr>\n",
       "  </tbody>\n",
       "</table>\n",
       "<p>5000000 rows × 11 columns</p>\n",
       "</div>"
      ],
      "text/plain": [
       "             ip  app  device  os  channel          click_time attributed_time  \\\n",
       "0         83230    3       1  13      379 2017-11-06 14:32:21               0   \n",
       "1         17357    3       1  19      379 2017-11-06 14:33:34               0   \n",
       "2         35810    3       1  13      379 2017-11-06 14:34:12               0   \n",
       "3         45745   14       1  13      478 2017-11-06 14:34:52               0   \n",
       "4        161007    3       1  13      379 2017-11-06 14:35:08               0   \n",
       "...         ...  ...     ...  ..      ...                 ...             ...   \n",
       "4999995   55695    8       1  16      145 2017-11-06 20:27:57               0   \n",
       "4999996   37363   15       1  25      245 2017-11-06 20:27:57               0   \n",
       "4999997  138561   94       1  13      361 2017-11-06 20:27:57               0   \n",
       "4999998   97361   12       1  35       19 2017-11-06 20:27:57               0   \n",
       "4999999   37363   12       1  25      245 2017-11-06 20:27:57               0   \n",
       "\n",
       "         is_attributed  click_days  click_hour  click_minute  \n",
       "0                    0           6          14            32  \n",
       "1                    0           6          14            33  \n",
       "2                    0           6          14            34  \n",
       "3                    0           6          14            34  \n",
       "4                    0           6          14            35  \n",
       "...                ...         ...         ...           ...  \n",
       "4999995              0           6          20            27  \n",
       "4999996              0           6          20            27  \n",
       "4999997              0           6          20            27  \n",
       "4999998              0           6          20            27  \n",
       "4999999              0           6          20            27  \n",
       "\n",
       "[5000000 rows x 11 columns]"
      ]
     },
     "execution_count": 7,
     "metadata": {},
     "output_type": "execute_result"
    }
   ],
   "source": [
    "dataset[\"click_time\"] = pd.to_datetime(dataset[\"click_time\"])\n",
    "dataset[\"click_days\"] = [x.day for x in dataset[\"click_time\"]]\n",
    "dataset[\"click_hour\"] = [x.hour for x in dataset[\"click_time\"]]\n",
    "dataset[\"click_minute\"] = [x.minute for x in dataset[\"click_time\"]]\n",
    "dataset"
   ]
  },
  {
   "cell_type": "markdown",
   "metadata": {},
   "source": [
    "Sample dataset containing a three days worth of data. "
   ]
  },
  {
   "cell_type": "code",
   "execution_count": 8,
   "metadata": {},
   "outputs": [
    {
     "data": {
      "text/plain": [
       "(Timestamp('2017-11-06 14:32:21'), Timestamp('2017-11-06 20:27:57'))"
      ]
     },
     "execution_count": 8,
     "metadata": {},
     "output_type": "execute_result"
    }
   ],
   "source": [
    "dataset[\"click_time\"].min(), dataset[\"click_time\"].max()"
   ]
  },
  {
   "cell_type": "markdown",
   "metadata": {},
   "source": [
    "Another feature we could seek to introduce is a type of click rate. The number of clicks per IP, Per App, Per Device, Per Os and Per Channel. We can do this by grouping by these features and counting the number of entries over a given time period"
   ]
  },
  {
   "cell_type": "code",
   "execution_count": 9,
   "metadata": {},
   "outputs": [],
   "source": [
    "def time_window(d, feature, period=\"60S\", time_column=\"click_time\"):\n",
    "    \"\"\"\n",
    "    d: pandas dataframe to be grouped\n",
    "    feature: The feature to group by\n",
    "    period: is the period of time to groupby\n",
    "    time_column: column in dataframe containing timestamp\n",
    "    \n",
    "    returns: grouped pandas dataframe\n",
    "    \"\"\"\n",
    "#     d_grouped = d.groupby(feature).count()\n",
    "    \n",
    "    d_resampled = d.copy()\n",
    "    d_resampled[\"timestamp\"] = d_resampled[time_column]\n",
    "    d_resampled = d_resampled.set_index(\"timestamp\").resample(period)\n",
    "    return d_resampled\n",
    "    "
   ]
  },
  {
   "cell_type": "code",
   "execution_count": 10,
   "metadata": {},
   "outputs": [],
   "source": [
    "indexes = dataset.groupby([\"ip\",\"click_time\"]).count().reset_index()[[\"ip\",\"click_time\"]]"
   ]
  },
  {
   "cell_type": "code",
   "execution_count": 11,
   "metadata": {},
   "outputs": [
    {
     "data": {
      "text/html": [
       "<div>\n",
       "<style scoped>\n",
       "    .dataframe tbody tr th:only-of-type {\n",
       "        vertical-align: middle;\n",
       "    }\n",
       "\n",
       "    .dataframe tbody tr th {\n",
       "        vertical-align: top;\n",
       "    }\n",
       "\n",
       "    .dataframe thead th {\n",
       "        text-align: right;\n",
       "    }\n",
       "</style>\n",
       "<table border=\"1\" class=\"dataframe\">\n",
       "  <thead>\n",
       "    <tr style=\"text-align: right;\">\n",
       "      <th></th>\n",
       "      <th>ip</th>\n",
       "      <th>app</th>\n",
       "      <th>device</th>\n",
       "      <th>os</th>\n",
       "      <th>channel</th>\n",
       "      <th>click_time</th>\n",
       "      <th>attributed_time</th>\n",
       "      <th>is_attributed</th>\n",
       "      <th>click_days</th>\n",
       "      <th>click_hour</th>\n",
       "      <th>click_minute</th>\n",
       "    </tr>\n",
       "    <tr>\n",
       "      <th>timestamp</th>\n",
       "      <th></th>\n",
       "      <th></th>\n",
       "      <th></th>\n",
       "      <th></th>\n",
       "      <th></th>\n",
       "      <th></th>\n",
       "      <th></th>\n",
       "      <th></th>\n",
       "      <th></th>\n",
       "      <th></th>\n",
       "      <th></th>\n",
       "    </tr>\n",
       "  </thead>\n",
       "  <tbody>\n",
       "    <tr>\n",
       "      <th>2017-11-06 14:32:00</th>\n",
       "      <td>1</td>\n",
       "      <td>1</td>\n",
       "      <td>1</td>\n",
       "      <td>1</td>\n",
       "      <td>1</td>\n",
       "      <td>1</td>\n",
       "      <td>1</td>\n",
       "      <td>1</td>\n",
       "      <td>1</td>\n",
       "      <td>1</td>\n",
       "      <td>1</td>\n",
       "    </tr>\n",
       "    <tr>\n",
       "      <th>2017-11-06 14:33:00</th>\n",
       "      <td>1</td>\n",
       "      <td>1</td>\n",
       "      <td>1</td>\n",
       "      <td>1</td>\n",
       "      <td>1</td>\n",
       "      <td>1</td>\n",
       "      <td>1</td>\n",
       "      <td>1</td>\n",
       "      <td>1</td>\n",
       "      <td>1</td>\n",
       "      <td>1</td>\n",
       "    </tr>\n",
       "    <tr>\n",
       "      <th>2017-11-06 14:34:00</th>\n",
       "      <td>2</td>\n",
       "      <td>2</td>\n",
       "      <td>2</td>\n",
       "      <td>2</td>\n",
       "      <td>2</td>\n",
       "      <td>2</td>\n",
       "      <td>2</td>\n",
       "      <td>2</td>\n",
       "      <td>2</td>\n",
       "      <td>2</td>\n",
       "      <td>2</td>\n",
       "    </tr>\n",
       "    <tr>\n",
       "      <th>2017-11-06 14:35:00</th>\n",
       "      <td>1</td>\n",
       "      <td>1</td>\n",
       "      <td>1</td>\n",
       "      <td>1</td>\n",
       "      <td>1</td>\n",
       "      <td>1</td>\n",
       "      <td>1</td>\n",
       "      <td>1</td>\n",
       "      <td>1</td>\n",
       "      <td>1</td>\n",
       "      <td>1</td>\n",
       "    </tr>\n",
       "    <tr>\n",
       "      <th>2017-11-06 14:36:00</th>\n",
       "      <td>1</td>\n",
       "      <td>1</td>\n",
       "      <td>1</td>\n",
       "      <td>1</td>\n",
       "      <td>1</td>\n",
       "      <td>1</td>\n",
       "      <td>1</td>\n",
       "      <td>1</td>\n",
       "      <td>1</td>\n",
       "      <td>1</td>\n",
       "      <td>1</td>\n",
       "    </tr>\n",
       "    <tr>\n",
       "      <th>...</th>\n",
       "      <td>...</td>\n",
       "      <td>...</td>\n",
       "      <td>...</td>\n",
       "      <td>...</td>\n",
       "      <td>...</td>\n",
       "      <td>...</td>\n",
       "      <td>...</td>\n",
       "      <td>...</td>\n",
       "      <td>...</td>\n",
       "      <td>...</td>\n",
       "      <td>...</td>\n",
       "    </tr>\n",
       "    <tr>\n",
       "      <th>2017-11-06 20:23:00</th>\n",
       "      <td>7290</td>\n",
       "      <td>7290</td>\n",
       "      <td>7290</td>\n",
       "      <td>7290</td>\n",
       "      <td>7290</td>\n",
       "      <td>7290</td>\n",
       "      <td>7290</td>\n",
       "      <td>7290</td>\n",
       "      <td>7290</td>\n",
       "      <td>7290</td>\n",
       "      <td>7290</td>\n",
       "    </tr>\n",
       "    <tr>\n",
       "      <th>2017-11-06 20:24:00</th>\n",
       "      <td>6763</td>\n",
       "      <td>6763</td>\n",
       "      <td>6763</td>\n",
       "      <td>6763</td>\n",
       "      <td>6763</td>\n",
       "      <td>6763</td>\n",
       "      <td>6763</td>\n",
       "      <td>6763</td>\n",
       "      <td>6763</td>\n",
       "      <td>6763</td>\n",
       "      <td>6763</td>\n",
       "    </tr>\n",
       "    <tr>\n",
       "      <th>2017-11-06 20:25:00</th>\n",
       "      <td>6628</td>\n",
       "      <td>6628</td>\n",
       "      <td>6628</td>\n",
       "      <td>6628</td>\n",
       "      <td>6628</td>\n",
       "      <td>6628</td>\n",
       "      <td>6628</td>\n",
       "      <td>6628</td>\n",
       "      <td>6628</td>\n",
       "      <td>6628</td>\n",
       "      <td>6628</td>\n",
       "    </tr>\n",
       "    <tr>\n",
       "      <th>2017-11-06 20:26:00</th>\n",
       "      <td>6871</td>\n",
       "      <td>6871</td>\n",
       "      <td>6871</td>\n",
       "      <td>6871</td>\n",
       "      <td>6871</td>\n",
       "      <td>6871</td>\n",
       "      <td>6871</td>\n",
       "      <td>6871</td>\n",
       "      <td>6871</td>\n",
       "      <td>6871</td>\n",
       "      <td>6871</td>\n",
       "    </tr>\n",
       "    <tr>\n",
       "      <th>2017-11-06 20:27:00</th>\n",
       "      <td>6626</td>\n",
       "      <td>6626</td>\n",
       "      <td>6626</td>\n",
       "      <td>6626</td>\n",
       "      <td>6626</td>\n",
       "      <td>6626</td>\n",
       "      <td>6626</td>\n",
       "      <td>6626</td>\n",
       "      <td>6626</td>\n",
       "      <td>6626</td>\n",
       "      <td>6626</td>\n",
       "    </tr>\n",
       "  </tbody>\n",
       "</table>\n",
       "<p>356 rows × 11 columns</p>\n",
       "</div>"
      ],
      "text/plain": [
       "                       ip   app  device    os  channel  click_time  \\\n",
       "timestamp                                                            \n",
       "2017-11-06 14:32:00     1     1       1     1        1           1   \n",
       "2017-11-06 14:33:00     1     1       1     1        1           1   \n",
       "2017-11-06 14:34:00     2     2       2     2        2           2   \n",
       "2017-11-06 14:35:00     1     1       1     1        1           1   \n",
       "2017-11-06 14:36:00     1     1       1     1        1           1   \n",
       "...                   ...   ...     ...   ...      ...         ...   \n",
       "2017-11-06 20:23:00  7290  7290    7290  7290     7290        7290   \n",
       "2017-11-06 20:24:00  6763  6763    6763  6763     6763        6763   \n",
       "2017-11-06 20:25:00  6628  6628    6628  6628     6628        6628   \n",
       "2017-11-06 20:26:00  6871  6871    6871  6871     6871        6871   \n",
       "2017-11-06 20:27:00  6626  6626    6626  6626     6626        6626   \n",
       "\n",
       "                     attributed_time  is_attributed  click_days  click_hour  \\\n",
       "timestamp                                                                     \n",
       "2017-11-06 14:32:00                1              1           1           1   \n",
       "2017-11-06 14:33:00                1              1           1           1   \n",
       "2017-11-06 14:34:00                2              2           2           2   \n",
       "2017-11-06 14:35:00                1              1           1           1   \n",
       "2017-11-06 14:36:00                1              1           1           1   \n",
       "...                              ...            ...         ...         ...   \n",
       "2017-11-06 20:23:00             7290           7290        7290        7290   \n",
       "2017-11-06 20:24:00             6763           6763        6763        6763   \n",
       "2017-11-06 20:25:00             6628           6628        6628        6628   \n",
       "2017-11-06 20:26:00             6871           6871        6871        6871   \n",
       "2017-11-06 20:27:00             6626           6626        6626        6626   \n",
       "\n",
       "                     click_minute  \n",
       "timestamp                          \n",
       "2017-11-06 14:32:00             1  \n",
       "2017-11-06 14:33:00             1  \n",
       "2017-11-06 14:34:00             2  \n",
       "2017-11-06 14:35:00             1  \n",
       "2017-11-06 14:36:00             1  \n",
       "...                           ...  \n",
       "2017-11-06 20:23:00          7290  \n",
       "2017-11-06 20:24:00          6763  \n",
       "2017-11-06 20:25:00          6628  \n",
       "2017-11-06 20:26:00          6871  \n",
       "2017-11-06 20:27:00          6626  \n",
       "\n",
       "[356 rows x 11 columns]"
      ]
     },
     "execution_count": 11,
     "metadata": {},
     "output_type": "execute_result"
    }
   ],
   "source": [
    "time_window(dataset, feature=\"ip\").count()"
   ]
  },
  {
   "cell_type": "markdown",
   "metadata": {},
   "source": [
    "## Feature Pipeline"
   ]
  },
  {
   "cell_type": "code",
   "execution_count": 12,
   "metadata": {},
   "outputs": [],
   "source": [
    "def iterate_grouping_for_different_features(d, features, time_agg):\n",
    "    list_of_features = []\n",
    "    for i in features:\n",
    "        for j in time_agg:\n",
    "            list_of_features.append([\n",
    "                count_by_unit_of_time(\n",
    "                    d, \n",
    "                    groupby_feature=i, \n",
    "                    time_feature=j),\n",
    "                i,\n",
    "                j\n",
    "            ]\n",
    "            )\n",
    "    return list_of_features\n",
    "\n",
    "def count_by_unit_of_time(d, groupby_feature=\"ip\", time_feature=\"click_hour\"):\n",
    "    \"\"\"\n",
    "    Function to groupby unit of time and count\n",
    "    \n",
    "    d: pandas dataframe\n",
    "    returns: grouped pandas dataframe\n",
    "    \"\"\"\n",
    "    count = d.groupby([groupby_feature, time_feature]).count().reset_index()\\\n",
    "        [[groupby_feature, time_feature ,\"click_time\"]]\n",
    "    count = count.rename(columns={\"click_time\": f\"count_{groupby_feature}_{time_feature}\"})\n",
    "    return count\n"
   ]
  },
  {
   "cell_type": "code",
   "execution_count": 13,
   "metadata": {},
   "outputs": [],
   "source": [
    "class feature_pipeline():\n",
    "        \n",
    "    def add_time_features(self):\n",
    "        \"\"\"\n",
    "        Adds additional click time features to dataset.\n",
    "        \n",
    "        \"\"\"\n",
    "        self.dataset[\"click_time\"] = pd.to_datetime(self.dataset[\"click_time\"])\n",
    "        self.dataset[\"click_days\"] = [x.day for x in self.dataset[\"click_time\"]]\n",
    "        self.dataset[\"click_hour\"] = [x.hour for x in self.dataset[\"click_time\"]]\n",
    "        self.dataset[\"click_minute\"] = [x.minute for x in self.dataset[\"click_time\"]]\n",
    "        \n",
    "        \n",
    "    def add_grouping_features(self, \n",
    "                              features=[\"ip\",\"app\",\"device\",\"os\", \"channel\"],\n",
    "                              time_agg=[\"click_hour\",\"click_minute\"]):\n",
    "        \"\"\"\n",
    "        Adds grouping features to dataset\n",
    "        \"\"\"\n",
    "        self.list_of_features = iterate_grouping_for_different_features(\n",
    "            self.dataset,\n",
    "            features=features, \n",
    "            time_agg=time_agg)\n",
    "        self.length_of_list_of_features = len(self.list_of_features)\n",
    "        \n",
    "        \n",
    "    def merge_grouped_features_to_dataset(self):\n",
    "        \"\"\"\n",
    "        Merges grouped features onto original dataset\n",
    "        \"\"\"\n",
    "        self.dataset_clean = self.dataset.copy()\n",
    "        for i in range(self.length_of_list_of_features):\n",
    "            self.dataset_clean = pd.merge( \n",
    "                self.dataset_clean, \n",
    "                self.list_of_features[i][0], \n",
    "                on=[\n",
    "                    self.list_of_features[i][1],\n",
    "                    self.list_of_features[i][2]\n",
    "                ], \n",
    "                how=\"inner\"\n",
    "                )\n",
    "            \n",
    "    \n",
    "    def create_validation_set(self):\n",
    "        \"\"\"\n",
    "        Creates Validation Dataset\n",
    "        \"\"\"\n",
    "        \n",
    "        self.features, self.xval, self.target, self.yval = train_test_split(\n",
    "            self.features,\n",
    "            self.target,\n",
    "            test_size=0.33, \n",
    "            random_state=42\n",
    "        )\n",
    "    \n",
    "    \n",
    "            \n",
    "    def min_max_scaling_of_features(self, is_training=True):\n",
    "        \"\"\"\n",
    "        Performs MinMax Scaling on numerical features\n",
    "        \"\"\"\n",
    "        cols = [x for x in self.dataset_clean if \"count\" in x]\n",
    "        if is_training:\n",
    "            self.min_max = sklearn.preprocessing.MinMaxScaler()\n",
    "        for i in cols:\n",
    "            if is_training:\n",
    "                self.min_max.fit(self.dataset_clean[i].values.reshape(-1,1))\n",
    "            self.dataset_clean[i] = self.min_max\\\n",
    "                .transform(self.dataset_clean[i].values.reshape(-1,1))\n",
    "        \n",
    "            \n",
    "            \n",
    "    def drop_columns(self,\n",
    "                     columns=[\"is_attributed\",\"click_time\", \"attributed_time\"],\n",
    "                     target=\"is_attributed\"):\n",
    "        \"\"\"\n",
    "        Drops unneded columns and removes features\n",
    "        \"\"\"\n",
    "        self.features = self.dataset_clean.drop(columns=columns)\n",
    "        self.target = self.dataset_clean[target]\n",
    "        \n",
    "        \n",
    "    def resample_data(self):\n",
    "        \"\"\"\n",
    "        Resample Data Classes\n",
    "        \"\"\"\n",
    "        undersample = NearMiss(version=1, n_neighbors=3)\n",
    "        \n",
    "        self.create_validation_set()\n",
    "        \n",
    "        self.features_resampled, self.target_resampled = undersample.\\\n",
    "            fit_resample(self.features, self.target)       \n",
    "        \n",
    "        \n",
    "        \n",
    "    def execute_pipeline(self, dataset, is_training=True):\n",
    "        \"\"\"\n",
    "        Execute Training Pipeline\n",
    "        \"\"\"\n",
    "        self.dataset = dataset\n",
    "        \n",
    "        self.add_time_features()\n",
    "        self.add_grouping_features()\n",
    "        self.merge_grouped_features_to_dataset()\n",
    "        self.min_max_scaling_of_features(is_training=is_training)\n",
    "        if is_training:\n",
    "            self.drop_columns()\n",
    "        self.resample_data()\n",
    "        return self.features_resampled, self.target_resampled"
   ]
  },
  {
   "cell_type": "code",
   "execution_count": 14,
   "metadata": {
    "scrolled": false
   },
   "outputs": [],
   "source": [
    "dataset = pd.read_csv(\"./data/talkingdata-adtracking-fraud-detection/train.csv\", nrows=10000)\n",
    "fp = feature_pipeline()\n",
    "features, target = fp.execute_pipeline(dataset)"
   ]
  },
  {
   "cell_type": "markdown",
   "metadata": {},
   "source": [
    "### Model (Random Forest)\n",
    "\n",
    "Given from previous analysis we see that the minority class has a very small size and we are using undersampling, will investigate\n",
    "\n",
    "- Impact of dataset size of model training accuracy\n",
    "- Hyper parameter grid search\n",
    "- Application to the test data"
   ]
  },
  {
   "cell_type": "markdown",
   "metadata": {},
   "source": [
    "### Impact of training data size on predictions."
   ]
  },
  {
   "cell_type": "code",
   "execution_count": 15,
   "metadata": {},
   "outputs": [
    {
     "data": {
      "application/vnd.jupyter.widget-view+json": {
       "model_id": "3850c838c453444db8e32f71b9198d2b",
       "version_major": 2,
       "version_minor": 0
      },
      "text/plain": [
       "HBox(children=(FloatProgress(value=0.0, max=6.0), HTML(value='')))"
      ]
     },
     "metadata": {},
     "output_type": "display_data"
    },
    {
     "name": "stdout",
     "output_type": "stream",
     "text": [
      "\n"
     ]
    }
   ],
   "source": [
    "sample_size = [10000, 100000, 500000, 1000000, 2000000, 3000000]\n",
    "rf_performance = []\n",
    "\n",
    "for k in tqdm(sample_size):\n",
    "    dataset = pd.read_csv(\"./data/talkingdata-adtracking-fraud-detection/train.csv\", nrows=k)\n",
    "    fp = feature_pipeline()\n",
    "    features, target = fp.execute_pipeline(dataset)\n",
    "    \n",
    "    rf = RandomForestClassifier(random_state=42)\n",
    "    rf.fit(features, target)\n",
    "    ypred = rf.predict(fp.xval)\n",
    "    \n",
    "    scores = cross_val_score(rf, features, target, cv=5)\n",
    "    rf_performance.append([k, scores.mean(), rf, fp, len(features)])"
   ]
  },
  {
   "cell_type": "code",
   "execution_count": 16,
   "metadata": {},
   "outputs": [],
   "source": [
    "plotting_data = []\n",
    "for i in range(len(rf_performance)):\n",
    "    plotting_data.append([rf_performance[i][0], rf_performance[i][1], rf_performance[i][-1]])"
   ]
  },
  {
   "cell_type": "code",
   "execution_count": 17,
   "metadata": {},
   "outputs": [],
   "source": [
    "plotting_data = pd.DataFrame(plotting_data, columns=[\"sample_size\",\"accuracy\", \"training_length\"])"
   ]
  },
  {
   "cell_type": "code",
   "execution_count": 18,
   "metadata": {},
   "outputs": [
    {
     "data": {
      "text/plain": [
       "Text(0, 0.5, 'Length of dataset')"
      ]
     },
     "execution_count": 18,
     "metadata": {},
     "output_type": "execute_result"
    },
    {
     "data": {
      "image/png": "[encoded data removed]",
      "text/plain": [
       "<Figure size 432x288 with 1 Axes>"
      ]
     },
     "metadata": {
      "needs_background": "light"
     },
     "output_type": "display_data"
    }
   ],
   "source": [
    "plt.plot(plotting_data[\"sample_size\"], plotting_data[\"training_length\"], '-ok', markerfacecolor=\"b\")\n",
    "plt.xlabel(\"Original Sample Size\")\n",
    "plt.ylabel(\"Length of dataset\")"
   ]
  },
  {
   "cell_type": "code",
   "execution_count": 19,
   "metadata": {},
   "outputs": [
    {
     "data": {
      "text/plain": [
       "Text(0, 0.5, 'Accuracy')"
      ]
     },
     "execution_count": 19,
     "metadata": {},
     "output_type": "execute_result"
    },
    {
     "data": {
      "image/png": "[encoded data removed]",
      "text/plain": [
       "<Figure size 432x288 with 1 Axes>"
      ]
     },
     "metadata": {
      "needs_background": "light"
     },
     "output_type": "display_data"
    }
   ],
   "source": [
    "plt.plot(plotting_data[\"sample_size\"], plotting_data[\"accuracy\"], '-ok', markerfacecolor=\"r\")\n",
    "plt.xlabel(\"Original Sample Size\")\n",
    "plt.ylabel(\"Accuracy\")"
   ]
  },
  {
   "cell_type": "markdown",
   "metadata": {},
   "source": [
    "### Hyper Parameter Tuning and Grid Search"
   ]
  },
  {
   "cell_type": "code",
   "execution_count": 20,
   "metadata": {},
   "outputs": [],
   "source": [
    "n_estimators = [int(x) for x in np.linspace(start = 200, stop = 2000, num = 10)]\n",
    "max_features = ['auto', 'sqrt']\n",
    "max_depth = [int(x) for x in np.linspace(10, 110, num = 11)]\n",
    "max_depth.append(None)\n",
    "min_samples_split = [2, 5, 10]\n",
    "min_samples_leaf = [1, 2, 4]\n",
    "bootstrap = [True, False]\n",
    "\n",
    "# Create the random grid\n",
    "random_grid = {'n_estimators': n_estimators,\n",
    "               'max_features': max_features,\n",
    "               'max_depth': max_depth,\n",
    "               'min_samples_split': min_samples_split,\n",
    "               'min_samples_leaf': min_samples_leaf,\n",
    "               'bootstrap': bootstrap}\n"
   ]
  },
  {
   "cell_type": "code",
   "execution_count": null,
   "metadata": {},
   "outputs": [
    {
     "name": "stdout",
     "output_type": "stream",
     "text": [
      "Fitting 3 folds for each of 100 candidates, totalling 300 fits\n"
     ]
    }
   ],
   "source": [
    "rf_random = RandomizedSearchCV(estimator=rf_performance[-1][-3], \n",
    "                               param_distributions = random_grid,\n",
    "                               n_iter = 100, \n",
    "                               cv = 3,\n",
    "                               verbose=2,\n",
    "                               random_state=42,\n",
    "                               n_jobs=-1)\n",
    "# Fit the random search model\n",
    "rf_random.fit(features, target)"
   ]
  },
  {
   "cell_type": "code",
   "execution_count": null,
   "metadata": {},
   "outputs": [],
   "source": [
    "xval = rf_performance[3][-2].xval\n",
    "yval = rf_performance[3][-2].yval\n",
    "\n",
    "best_random = rf_random.best_estimator_\n",
    "best_random.score(xval, yval)\n"
   ]
  },
  {
   "cell_type": "markdown",
   "metadata": {},
   "source": [
    "The performance here is not good. Although we have good accuracy in the training, the model doesnt generalise well to the validation dataset. This implies over fitting however we would expect the variation of the number of estimators in the forest to prevent overfitting (more estimators should reduce the probability of overfitting). "
   ]
  },
  {
   "cell_type": "markdown",
   "metadata": {},
   "source": [
    "# Model (NN)"
   ]
  },
  {
   "cell_type": "code",
   "execution_count": null,
   "metadata": {},
   "outputs": [],
   "source": [
    "def classification_model(shape=features.shape[1]):\n",
    "    inputs = Input(shape,)\n",
    "    x = Dense(128, activation=\"relu\")(inputs)\n",
    "    x = Dense(16, activation=\"relu\")(x)\n",
    "    x = layers.Dense(\n",
    "            units=64,\n",
    "            kernel_regularizer=regularizers.l1_l2(l1=1e-5, l2=1e-4),\n",
    "            bias_regularizer=regularizers.l2(1e-4),\n",
    "            activity_regularizer=regularizers.l2(1e-5)\n",
    "    )(x)\n",
    "    x = Dense(128, activation=\"relu\")(x)\n",
    "    x = Dropout(0.5)(x)\n",
    "    x = Dense(128, activation=\"relu\")(x)\n",
    "    \n",
    "    output = layers.Dense(1, activation=\"sigmoid\")(x)\n",
    "    model = Model(inputs, output)\n",
    "    \n",
    "    # compile model\n",
    "    model.compile(loss=\"binary_crossentropy\", optimizer=\"adam\", metrics=[\n",
    "                                                                         'accuracy',\n",
    "                                                                         Precision(),\n",
    "                                                                         Recall(),\n",
    "                                                                         FalseNegatives(),\n",
    "                                                                         FalsePositives(),\n",
    "                                                                         AUC()\n",
    "                                                                         ])\n",
    "    return model"
   ]
  },
  {
   "cell_type": "code",
   "execution_count": null,
   "metadata": {},
   "outputs": [],
   "source": [
    "early_stopping = EarlyStopping(\n",
    "    monitor='accuracy',\n",
    "    verbose=1,\n",
    "    patience=20,\n",
    "    mode='max',\n",
    "    restore_best_weights=True)"
   ]
  },
  {
   "cell_type": "code",
   "execution_count": null,
   "metadata": {},
   "outputs": [],
   "source": [
    "model = classification_model()\n",
    "model.summary()"
   ]
  },
  {
   "cell_type": "code",
   "execution_count": null,
   "metadata": {},
   "outputs": [],
   "source": [
    "dataset = pd.read_csv(\"./data/talkingdata-adtracking-fraud-detection/train.csv\", nrows=3000000)\n",
    "fp = feature_pipeline()\n",
    "features, target = fp.execute_pipeline(dataset)"
   ]
  },
  {
   "cell_type": "code",
   "execution_count": null,
   "metadata": {},
   "outputs": [],
   "source": [
    "model_history = model.fit(\n",
    "    features,\n",
    "    target, \n",
    "    batch_size=8,\n",
    "    epochs=100,\n",
    "    callbacks=[early_stopping],\n",
    "    validation_split=.30)"
   ]
  },
  {
   "cell_type": "code",
   "execution_count": null,
   "metadata": {},
   "outputs": [],
   "source": [
    "plt.figure()\n",
    "plt.plot(model_history.history[\"accuracy\"], label=\"accuracy\")\n",
    "plt.xlabel(\"epochs\")\n",
    "plt.ylabel(\"Accuracy\")\n",
    "\n",
    "plt.figure()\n",
    "plt.plot(model_history.history[\"precision\"], label=\"precision\")\n",
    "plt.xlabel(\"epochs\")\n",
    "plt.ylabel(\"Precision\")\n",
    "\n",
    "plt.figure()\n",
    "plt.plot(model_history.history[\"recall\"], label=\"recall\")\n",
    "plt.xlabel(\"epochs\")\n",
    "plt.ylabel(\"Recall\")"
   ]
  },
  {
   "cell_type": "markdown",
   "metadata": {
    "heading_collapsed": true
   },
   "source": [
    "# Model Summaries\n",
    "\n",
    "As we can see, neither models are working as we would hope. Training on the original dataset gives high accuracy with cross validation for the random forest, but application to the validation data shows that we have abysmal performance. Even using a randomised search with the most optimal paramter we find that we have terrible performance. Unfortunately we are not able to meet the criteria of a Minimal Value Product at this stage. It appears as if we are suffering from some overfitting in the random forest, however the grid search should look to reduce overfitting to some extent as it will vary the number of estimators (increasing the number of estimators should reduce the probability of overfitting, as well as varying other factors.\n",
    "\n",
    "<br/>\n",
    "\n",
    "Although potentially not the most optimial solution, we decided to apply a simple neural network. This would give us better extention to larger datasets and allow us to customise the network. We added layers of regularisation across the kernal, bias terms and activity. We use L2 regularisation in an attempt to zero out weights in the network and prevent overfitting. In addition we also introduce a dropout layer.\n",
    "\n",
    "Looking at the results from the NN, the results once again are uninspiring and hence we didnt perform hyper-parameter tuning. Although it looks like overfitting, I think that the features we have provided the models do not have enough predictive power to be generalised further. \n",
    "\n",
    "<br/>\n",
    "\n",
    "Although I didnt acheive the result I was looking for, alot of the framework was built to be able to quickly build up and test new models. In the future, I would go back to the drawing board with the feature engineering. I think one issue here is that the features potentially dont have enough predictive power. We should look to create stronger features. We also could look at one-hot encoding some of the categorical variables. This will generate more features which can be used in the training of a model"
   ]
  }
 ],
 "metadata": {
  "kernelspec": {
   "display_name": "Python 3",
   "language": "python",
   "name": "python3"
  },
  "language_info": {
   "codemirror_mode": {
    "name": "ipython",
    "version": 3
   },
   "file_extension": ".py",
   "mimetype": "text/x-python",
   "name": "python",
   "nbconvert_exporter": "python",
   "pygments_lexer": "ipython3",
   "version": "3.7.6"
  },
  "toc": {
   "base_numbering": 1,
   "nav_menu": {},
   "number_sections": true,
   "sideBar": true,
   "skip_h1_title": false,
   "title_cell": "Table of Contents",
   "title_sidebar": "Contents",
   "toc_cell": false,
   "toc_position": {
    "height": "calc(100% - 180px)",
    "left": "10px",
    "top": "150px",
    "width": "434.125px"
   },
   "toc_section_display": true,
   "toc_window_display": true
  }
 },
 "nbformat": 4,
 "nbformat_minor": 4
}
